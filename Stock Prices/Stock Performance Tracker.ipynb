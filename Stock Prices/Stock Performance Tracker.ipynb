{
 "cells": [
  {
   "cell_type": "markdown",
   "metadata": {},
   "source": [
    "# Stock Performance Tracker\n",
    "\n",
    "This code allows a user to input any stocks that they would like to view performance over a specific period of time. It can be used to simplify viewing and comparing various stocks over the same time window.\n",
    "\n",
    "There are 3 functions included in this notebook.\n",
    "\n",
    "1. `get_data()` which uses the `yfinance` python package to pull stock data from yahoo finance for a specific perfiod of time.\n",
    "2. `plotting_stocks()` takes in a dataframe of all stock information, and creates interactive subplots using the `plotly` package.\n",
    "3. `portfolio_stocks()` takes in user inputs for any number of stock ticker symbols to be plotted and time period using the 2 user-defined functions above to display final graphs.\n",
    "\n",
    "\n",
    "**Disclaimer:** *Stock prices are not sourced from all markets and may be delayed depending on real time data available from [yahoo finance](https://finance.yahoo.com/). Information is provided 'as is' and solely for informational purposes, not for trading purposes or advice.*\n"
   ]
  },
  {
   "cell_type": "code",
   "execution_count": null,
   "metadata": {},
   "outputs": [],
   "source": [
    "import pandas as pd\n",
    "import numpy as np\n",
    "from datetime import datetime, timedelta\n",
    "import yfinance as yf\n",
    "import os\n",
    "import contextlib\n",
    "from plotly.subplots import make_subplots\n",
    "import plotly.graph_objects as go"
   ]
  },
  {
   "cell_type": "markdown",
   "metadata": {},
   "source": [
    "## Function to Retrieve Stock Prices"
   ]
  },
  {
   "cell_type": "code",
   "execution_count": null,
   "metadata": {},
   "outputs": [],
   "source": [
    "def get_data(ls, period = '5y'):\n",
    "    \"\"\"\n",
    "    Pulls stock information for a specifc period length\n",
    "\n",
    "    Keyword arguments:\n",
    "    ls -- list of stock ticker symbols\n",
    "    period -- length of stock data: 1d,5d,1mo,3mo,6mo,1y,2y,5y,10y,ytd,max\n",
    "    \"\"\"\n",
    "        \n",
    "    global date_range\n",
    "    \n",
    "    date_range = period\n",
    "    \n",
    "    stock_list = []\n",
    "\n",
    "    for ticker in ls:\n",
    "        df = pd.DataFrame(yf.download(ticker, period = period,auto_adjust = True))\n",
    "        df['Ticker'] = '{}'.format(ticker)\n",
    "        stock_list.append(df)\n",
    "\n",
    "    dataframe = pd.concat(stock_list, axis=0).reset_index()\n",
    "    \n",
    "    return dataframe"
   ]
  },
  {
   "cell_type": "markdown",
   "metadata": {},
   "source": [
    "## Function to Plot Stock Prices"
   ]
  },
  {
   "cell_type": "code",
   "execution_count": null,
   "metadata": {},
   "outputs": [],
   "source": [
    "def plotting_stocks(dataframe):\n",
    "    \"\"\"\n",
    "    Plotting each stock ticker into a subplots.\n",
    "\n",
    "    Keyword arguments:\n",
    "    dataframe -- stock dataframe to graph each ticker\n",
    "    \"\"\"\n",
    "    \n",
    "    # setting variables\n",
    "    stock_cnt = dataframe['Ticker'].nunique()\n",
    "    stocks = sorted(list(dataframe['Ticker'].value_counts().index))\n",
    "\n",
    "    #subplot formating\n",
    "    fig = make_subplots(\n",
    "                        rows=stock_cnt, cols=1,\n",
    "                        shared_xaxes=True,\n",
    "                        vertical_spacing = 0.01,\n",
    "                        horizontal_spacing=0.085,\n",
    "                        x_title='Days',\n",
    "                        y_title='Closing Stock Price ($)')\n",
    "\n",
    "    # plotting each subplot\n",
    "    for index, stock in enumerate(stocks):\n",
    "        fig.add_trace(\n",
    "                      go.Scatter(x= dataframe[dataframe['Ticker'] == stock]['Date'], \n",
    "                                 y = dataframe[dataframe['Ticker'] == stock]['Close'], \n",
    "                                 name = stock\n",
    "                                  ),\n",
    "                      row=index+1, col=1\n",
    "        )\n",
    "\n",
    "        fig.add_annotation(x = dataframe[dataframe['Ticker'] == stock]['Date'].max(),# - timedelta(days=10), \n",
    "                           y = dataframe[dataframe['Ticker'] == stock]['Close'].min(),\n",
    "                           text = stock,\n",
    "                           showarrow = False,\n",
    "                           font=dict(\n",
    "                                    family=\"Arial\",\n",
    "                                    size=30,\n",
    "                                    color=\"black\"\n",
    "                                    ),\n",
    "                           row = index+1, col = 1)\n",
    "\n",
    "    # formating main plot\n",
    "    fig.update_layout(height = 300*stock_cnt, width = 1000, \n",
    "                      showlegend = False,\n",
    "                      title = dict(\n",
    "                                   text = '{} - Daily Closing Prices'.format(date_range),\n",
    "                                   font = dict(\n",
    "                                               family = 'Arial',\n",
    "                                               size = 30,\n",
    "                                               color = 'black')\n",
    "                                     ),\n",
    "                        font = dict(\n",
    "                                    family = 'Arial',\n",
    "                                    size = 16,\n",
    "                                    color = 'black')\n",
    "                      )\n",
    "\n",
    "    fig.show()"
   ]
  },
  {
   "cell_type": "markdown",
   "metadata": {},
   "source": [
    "## Function to Input Stock Tickers"
   ]
  },
  {
   "cell_type": "code",
   "execution_count": null,
   "metadata": {},
   "outputs": [],
   "source": [
    "def portfolio_stocks():\n",
    "    \n",
    "    \"\"\"\n",
    "    Full function to take in stock ticker inputs from users and output graphs\n",
    "    \n",
    "    \"\"\"\n",
    "        \n",
    "    # saving output globally\n",
    "    global stock_df\n",
    "\n",
    "    print('''\n",
    "        You can track each stock by entering the company's ticker symbol.\n",
    "        -----------------------------------------------------------------\n",
    "''')\n",
    "    \n",
    "    ls = []\n",
    "\n",
    "    while True:\n",
    "\n",
    "#         print()\n",
    "        stock = input('''  \n",
    "        Enter ticker symbol or press enter to end.\n",
    "        ------------------------------------------\n",
    "        ''').upper()\n",
    "\n",
    "        if stock == '':\n",
    "            break\n",
    "        else:\n",
    "            ls.append(stock)\n",
    "\n",
    "    while True:\n",
    "        time = str(input('''\n",
    "        Enter time period you would like to view.\n",
    "        Valid inputs: 1d,5d,1mo,3mo,6mo,1y,2y,5y,10y,ytd,max\n",
    "        ----------------------------------------------------\n",
    "        '''))\n",
    "        \n",
    "        valid = ['1d', '5d', '1mo', '3mo', '6mo',\n",
    "                 '1y', '2y', '5y', '10y', 'ytd', 'max']\n",
    "\n",
    "        if time not in valid:\n",
    "            True\n",
    "        else:\n",
    "            stock_df = get_data(ls, period=time)\n",
    "            break\n",
    "\n",
    "    order = ['Date', 'Ticker', 'Open', 'High', 'Low', 'Close', 'Volume']\n",
    "\n",
    "    stock_df = stock_df.loc[:, order]\n",
    "\n",
    "    return plotting_stocks(stock_df)"
   ]
  },
  {
   "cell_type": "markdown",
   "metadata": {},
   "source": [
    "## Run Program"
   ]
  },
  {
   "cell_type": "code",
   "execution_count": null,
   "metadata": {},
   "outputs": [],
   "source": [
    "# function to run user inputs\n",
    "portfolio_stocks()"
   ]
  }
 ],
 "metadata": {
  "kernelspec": {
   "display_name": "Python 3",
   "language": "python",
   "name": "python3"
  },
  "language_info": {
   "codemirror_mode": {
    "name": "ipython",
    "version": 3
   },
   "file_extension": ".py",
   "mimetype": "text/x-python",
   "name": "python",
   "nbconvert_exporter": "python",
   "pygments_lexer": "ipython3",
   "version": "3.7.4"
  },
  "toc": {
   "base_numbering": 1,
   "nav_menu": {},
   "number_sections": false,
   "sideBar": true,
   "skip_h1_title": false,
   "title_cell": "Table of Contents",
   "title_sidebar": "Contents",
   "toc_cell": false,
   "toc_position": {},
   "toc_section_display": true,
   "toc_window_display": false
  }
 },
 "nbformat": 4,
 "nbformat_minor": 2
}
